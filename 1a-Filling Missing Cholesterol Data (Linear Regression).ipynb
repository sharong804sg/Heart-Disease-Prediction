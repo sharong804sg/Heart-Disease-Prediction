{
 "cells": [
  {
   "cell_type": "markdown",
   "id": "84e25915",
   "metadata": {},
   "source": [
    "env: sklearn"
   ]
  },
  {
   "cell_type": "markdown",
   "id": "472a132a",
   "metadata": {},
   "source": [
    "# <font color = 'purple'>Filling Missing Cholesterol Data (Linear Regression)   \n",
    "The raw heart disease dataset has entries with mising cholesterol data. As this affects a significant number of entries, we need to find a way to fill these missing values, or drop the cholesterol feature from our analysis.   \n",
    "\n",
    "In this notebook we explore whether we can use linear regression on the remaining features to predict the missing cholesterol values."
   ]
  },
  {
   "cell_type": "code",
   "execution_count": 1,
   "id": "1f81bc32",
   "metadata": {},
   "outputs": [],
   "source": [
    "import numpy as np\n",
    "import pandas as pd\n",
    "import matplotlib\n",
    "import matplotlib.pyplot as plt\n",
    "import seaborn as sns\n",
    "import os\n",
    "\n",
    "from sklearn.model_selection import train_test_split\n",
    "from sklearn.preprocessing import StandardScaler\n",
    "from sklearn.preprocessing import MinMaxScaler\n",
    "from sklearn.metrics import mean_squared_error\n",
    "from sklearn.metrics import r2_score\n",
    "from sklearn.linear_model import LinearRegression\n",
    "\n",
    "from scipy import stats"
   ]
  },
  {
   "cell_type": "code",
   "execution_count": 2,
   "id": "46e0a191",
   "metadata": {},
   "outputs": [],
   "source": [
    "#set default style for plots\n",
    "sns.set_style(\"whitegrid\")\n",
    "matplotlib.rcParams.update({'font.size': 8})\n",
    "\n",
    "#set working directory\n",
    "os.chdir(r\"C:\\Users\\sharo\\Documents\\Postgrad\\My Data Science Portfolio\\Classification - Heart Disease\")"
   ]
  },
  {
   "cell_type": "markdown",
   "id": "ef34240d",
   "metadata": {},
   "source": [
    "## <font color = 'blue'>Import Raw Data"
   ]
  },
  {
   "cell_type": "code",
   "execution_count": 3,
   "id": "6fc05f29",
   "metadata": {},
   "outputs": [
    {
     "data": {
      "text/html": [
       "<div>\n",
       "<style scoped>\n",
       "    .dataframe tbody tr th:only-of-type {\n",
       "        vertical-align: middle;\n",
       "    }\n",
       "\n",
       "    .dataframe tbody tr th {\n",
       "        vertical-align: top;\n",
       "    }\n",
       "\n",
       "    .dataframe thead th {\n",
       "        text-align: right;\n",
       "    }\n",
       "</style>\n",
       "<table border=\"1\" class=\"dataframe\">\n",
       "  <thead>\n",
       "    <tr style=\"text-align: right;\">\n",
       "      <th></th>\n",
       "      <th>Age</th>\n",
       "      <th>Sex</th>\n",
       "      <th>ChestPainType</th>\n",
       "      <th>RestingBP</th>\n",
       "      <th>Cholesterol</th>\n",
       "      <th>FastingBS</th>\n",
       "      <th>RestingECG</th>\n",
       "      <th>MaxHR</th>\n",
       "      <th>ExerciseAngina</th>\n",
       "      <th>Oldpeak</th>\n",
       "      <th>ST_Slope</th>\n",
       "      <th>HeartDisease</th>\n",
       "    </tr>\n",
       "  </thead>\n",
       "  <tbody>\n",
       "    <tr>\n",
       "      <th>0</th>\n",
       "      <td>40</td>\n",
       "      <td>M</td>\n",
       "      <td>ATA</td>\n",
       "      <td>140</td>\n",
       "      <td>289</td>\n",
       "      <td>0</td>\n",
       "      <td>Normal</td>\n",
       "      <td>172</td>\n",
       "      <td>N</td>\n",
       "      <td>0.0</td>\n",
       "      <td>Up</td>\n",
       "      <td>0</td>\n",
       "    </tr>\n",
       "    <tr>\n",
       "      <th>1</th>\n",
       "      <td>49</td>\n",
       "      <td>F</td>\n",
       "      <td>NAP</td>\n",
       "      <td>160</td>\n",
       "      <td>180</td>\n",
       "      <td>0</td>\n",
       "      <td>Normal</td>\n",
       "      <td>156</td>\n",
       "      <td>N</td>\n",
       "      <td>1.0</td>\n",
       "      <td>Flat</td>\n",
       "      <td>1</td>\n",
       "    </tr>\n",
       "    <tr>\n",
       "      <th>2</th>\n",
       "      <td>37</td>\n",
       "      <td>M</td>\n",
       "      <td>ATA</td>\n",
       "      <td>130</td>\n",
       "      <td>283</td>\n",
       "      <td>0</td>\n",
       "      <td>ST</td>\n",
       "      <td>98</td>\n",
       "      <td>N</td>\n",
       "      <td>0.0</td>\n",
       "      <td>Up</td>\n",
       "      <td>0</td>\n",
       "    </tr>\n",
       "    <tr>\n",
       "      <th>3</th>\n",
       "      <td>48</td>\n",
       "      <td>F</td>\n",
       "      <td>ASY</td>\n",
       "      <td>138</td>\n",
       "      <td>214</td>\n",
       "      <td>0</td>\n",
       "      <td>Normal</td>\n",
       "      <td>108</td>\n",
       "      <td>Y</td>\n",
       "      <td>1.5</td>\n",
       "      <td>Flat</td>\n",
       "      <td>1</td>\n",
       "    </tr>\n",
       "    <tr>\n",
       "      <th>4</th>\n",
       "      <td>54</td>\n",
       "      <td>M</td>\n",
       "      <td>NAP</td>\n",
       "      <td>150</td>\n",
       "      <td>195</td>\n",
       "      <td>0</td>\n",
       "      <td>Normal</td>\n",
       "      <td>122</td>\n",
       "      <td>N</td>\n",
       "      <td>0.0</td>\n",
       "      <td>Up</td>\n",
       "      <td>0</td>\n",
       "    </tr>\n",
       "  </tbody>\n",
       "</table>\n",
       "</div>"
      ],
      "text/plain": [
       "   Age Sex ChestPainType  RestingBP  Cholesterol  FastingBS RestingECG  MaxHR  \\\n",
       "0   40   M           ATA        140          289          0     Normal    172   \n",
       "1   49   F           NAP        160          180          0     Normal    156   \n",
       "2   37   M           ATA        130          283          0         ST     98   \n",
       "3   48   F           ASY        138          214          0     Normal    108   \n",
       "4   54   M           NAP        150          195          0     Normal    122   \n",
       "\n",
       "  ExerciseAngina  Oldpeak ST_Slope  HeartDisease  \n",
       "0              N      0.0       Up             0  \n",
       "1              N      1.0     Flat             1  \n",
       "2              N      0.0       Up             0  \n",
       "3              Y      1.5     Flat             1  \n",
       "4              N      0.0       Up             0  "
      ]
     },
     "execution_count": 3,
     "metadata": {},
     "output_type": "execute_result"
    }
   ],
   "source": [
    "df = pd.read_csv(\"heart.csv\")\n",
    "df.head()"
   ]
  },
  {
   "cell_type": "code",
   "execution_count": 4,
   "id": "076c264e",
   "metadata": {},
   "outputs": [
    {
     "name": "stdout",
     "output_type": "stream",
     "text": [
      "<class 'pandas.core.frame.DataFrame'>\n",
      "RangeIndex: 918 entries, 0 to 917\n",
      "Data columns (total 12 columns):\n",
      " #   Column          Non-Null Count  Dtype  \n",
      "---  ------          --------------  -----  \n",
      " 0   Age             918 non-null    int64  \n",
      " 1   Sex             918 non-null    object \n",
      " 2   ChestPainType   918 non-null    object \n",
      " 3   RestingBP       918 non-null    int64  \n",
      " 4   Cholesterol     918 non-null    int64  \n",
      " 5   FastingBS       918 non-null    int64  \n",
      " 6   RestingECG      918 non-null    object \n",
      " 7   MaxHR           918 non-null    int64  \n",
      " 8   ExerciseAngina  918 non-null    object \n",
      " 9   Oldpeak         918 non-null    float64\n",
      " 10  ST_Slope        918 non-null    object \n",
      " 11  HeartDisease    918 non-null    int64  \n",
      "dtypes: float64(1), int64(6), object(5)\n",
      "memory usage: 86.2+ KB\n"
     ]
    }
   ],
   "source": [
    "df.info()"
   ]
  },
  {
   "cell_type": "code",
   "execution_count": 5,
   "id": "dc2a7815",
   "metadata": {},
   "outputs": [
    {
     "data": {
      "text/plain": [
       "0    704\n",
       "1    214\n",
       "Name: FastingBS, dtype: int64"
      ]
     },
     "execution_count": 5,
     "metadata": {},
     "output_type": "execute_result"
    }
   ],
   "source": [
    "df.FastingBS.value_counts() "
   ]
  },
  {
   "cell_type": "code",
   "execution_count": 6,
   "id": "85599451",
   "metadata": {},
   "outputs": [
    {
     "data": {
      "text/plain": [
       "0.18736383442265794"
      ]
     },
     "execution_count": 6,
     "metadata": {},
     "output_type": "execute_result"
    }
   ],
   "source": [
    "len(df[df.Cholesterol<=0])/len(df) #around 19% of data has missing Cholesterol values"
   ]
  },
  {
   "cell_type": "code",
   "execution_count": 7,
   "id": "ca667492",
   "metadata": {},
   "outputs": [
    {
     "data": {
      "text/plain": [
       "746"
      ]
     },
     "execution_count": 7,
     "metadata": {},
     "output_type": "execute_result"
    }
   ],
   "source": [
    "# for our regression model we will use the entries with cholesterol values to facilitate supervised learning\n",
    "# from our Data Exploration & Cleaning notebook, we also know there is 1 entry with mission RestingBP. Exclude this entry.\n",
    "df_1 = df[(df.Cholesterol>0) & (df.RestingBP>0)]\n",
    "len(df_1) #746 training data points"
   ]
  },
  {
   "cell_type": "code",
   "execution_count": 8,
   "id": "e085dd02",
   "metadata": {},
   "outputs": [
    {
     "data": {
      "text/html": [
       "<div>\n",
       "<style scoped>\n",
       "    .dataframe tbody tr th:only-of-type {\n",
       "        vertical-align: middle;\n",
       "    }\n",
       "\n",
       "    .dataframe tbody tr th {\n",
       "        vertical-align: top;\n",
       "    }\n",
       "\n",
       "    .dataframe thead th {\n",
       "        text-align: right;\n",
       "    }\n",
       "</style>\n",
       "<table border=\"1\" class=\"dataframe\">\n",
       "  <thead>\n",
       "    <tr style=\"text-align: right;\">\n",
       "      <th></th>\n",
       "      <th>Age</th>\n",
       "      <th>RestingBP</th>\n",
       "      <th>Cholesterol</th>\n",
       "      <th>FastingBS</th>\n",
       "      <th>MaxHR</th>\n",
       "      <th>Oldpeak</th>\n",
       "      <th>Sex_M</th>\n",
       "      <th>ChestPainType_ATA</th>\n",
       "      <th>ChestPainType_NAP</th>\n",
       "      <th>ChestPainType_TA</th>\n",
       "      <th>RestingECG_Normal</th>\n",
       "      <th>RestingECG_ST</th>\n",
       "      <th>ExerciseAngina_Y</th>\n",
       "      <th>ST_Slope_Flat</th>\n",
       "      <th>ST_Slope_Up</th>\n",
       "    </tr>\n",
       "  </thead>\n",
       "  <tbody>\n",
       "    <tr>\n",
       "      <th>0</th>\n",
       "      <td>40</td>\n",
       "      <td>140</td>\n",
       "      <td>289</td>\n",
       "      <td>0</td>\n",
       "      <td>172</td>\n",
       "      <td>0.0</td>\n",
       "      <td>1</td>\n",
       "      <td>1</td>\n",
       "      <td>0</td>\n",
       "      <td>0</td>\n",
       "      <td>1</td>\n",
       "      <td>0</td>\n",
       "      <td>0</td>\n",
       "      <td>0</td>\n",
       "      <td>1</td>\n",
       "    </tr>\n",
       "    <tr>\n",
       "      <th>1</th>\n",
       "      <td>49</td>\n",
       "      <td>160</td>\n",
       "      <td>180</td>\n",
       "      <td>0</td>\n",
       "      <td>156</td>\n",
       "      <td>1.0</td>\n",
       "      <td>0</td>\n",
       "      <td>0</td>\n",
       "      <td>1</td>\n",
       "      <td>0</td>\n",
       "      <td>1</td>\n",
       "      <td>0</td>\n",
       "      <td>0</td>\n",
       "      <td>1</td>\n",
       "      <td>0</td>\n",
       "    </tr>\n",
       "    <tr>\n",
       "      <th>2</th>\n",
       "      <td>37</td>\n",
       "      <td>130</td>\n",
       "      <td>283</td>\n",
       "      <td>0</td>\n",
       "      <td>98</td>\n",
       "      <td>0.0</td>\n",
       "      <td>1</td>\n",
       "      <td>1</td>\n",
       "      <td>0</td>\n",
       "      <td>0</td>\n",
       "      <td>0</td>\n",
       "      <td>1</td>\n",
       "      <td>0</td>\n",
       "      <td>0</td>\n",
       "      <td>1</td>\n",
       "    </tr>\n",
       "    <tr>\n",
       "      <th>3</th>\n",
       "      <td>48</td>\n",
       "      <td>138</td>\n",
       "      <td>214</td>\n",
       "      <td>0</td>\n",
       "      <td>108</td>\n",
       "      <td>1.5</td>\n",
       "      <td>0</td>\n",
       "      <td>0</td>\n",
       "      <td>0</td>\n",
       "      <td>0</td>\n",
       "      <td>1</td>\n",
       "      <td>0</td>\n",
       "      <td>1</td>\n",
       "      <td>1</td>\n",
       "      <td>0</td>\n",
       "    </tr>\n",
       "    <tr>\n",
       "      <th>4</th>\n",
       "      <td>54</td>\n",
       "      <td>150</td>\n",
       "      <td>195</td>\n",
       "      <td>0</td>\n",
       "      <td>122</td>\n",
       "      <td>0.0</td>\n",
       "      <td>1</td>\n",
       "      <td>0</td>\n",
       "      <td>1</td>\n",
       "      <td>0</td>\n",
       "      <td>1</td>\n",
       "      <td>0</td>\n",
       "      <td>0</td>\n",
       "      <td>0</td>\n",
       "      <td>1</td>\n",
       "    </tr>\n",
       "  </tbody>\n",
       "</table>\n",
       "</div>"
      ],
      "text/plain": [
       "   Age  RestingBP  Cholesterol  FastingBS  MaxHR  Oldpeak  Sex_M  \\\n",
       "0   40        140          289          0    172      0.0      1   \n",
       "1   49        160          180          0    156      1.0      0   \n",
       "2   37        130          283          0     98      0.0      1   \n",
       "3   48        138          214          0    108      1.5      0   \n",
       "4   54        150          195          0    122      0.0      1   \n",
       "\n",
       "   ChestPainType_ATA  ChestPainType_NAP  ChestPainType_TA  RestingECG_Normal  \\\n",
       "0                  1                  0                 0                  1   \n",
       "1                  0                  1                 0                  1   \n",
       "2                  1                  0                 0                  0   \n",
       "3                  0                  0                 0                  1   \n",
       "4                  0                  1                 0                  1   \n",
       "\n",
       "   RestingECG_ST  ExerciseAngina_Y  ST_Slope_Flat  ST_Slope_Up  \n",
       "0              0                 0              0            1  \n",
       "1              0                 0              1            0  \n",
       "2              1                 0              0            1  \n",
       "3              0                 1              1            0  \n",
       "4              0                 0              0            1  "
      ]
     },
     "execution_count": 8,
     "metadata": {},
     "output_type": "execute_result"
    }
   ],
   "source": [
    "# we will not use the 'HeartDisease' column as a covariate for regression as we would not have this for test data\n",
    "# for the remaining columns, convert categorical variables into indicator variables\n",
    "df_2 = df_1.drop(columns='HeartDisease')\n",
    "df_2 = pd.get_dummies(df_2, drop_first=True)\n",
    "df_2.head()"
   ]
  },
  {
   "cell_type": "markdown",
   "id": "a3c10947",
   "metadata": {},
   "source": [
    "## <font color = 'blue'> Scale Numeric Features"
   ]
  },
  {
   "cell_type": "code",
   "execution_count": 9,
   "id": "7a9fcac9",
   "metadata": {},
   "outputs": [
    {
     "name": "stdout",
     "output_type": "stream",
     "text": [
      "<class 'pandas.core.frame.DataFrame'>\n",
      "Int64Index: 746 entries, 0 to 917\n",
      "Data columns (total 14 columns):\n",
      " #   Column             Non-Null Count  Dtype  \n",
      "---  ------             --------------  -----  \n",
      " 0   Age                746 non-null    int64  \n",
      " 1   RestingBP          746 non-null    int64  \n",
      " 2   FastingBS          746 non-null    int64  \n",
      " 3   MaxHR              746 non-null    int64  \n",
      " 4   Oldpeak            746 non-null    float64\n",
      " 5   Sex_M              746 non-null    uint8  \n",
      " 6   ChestPainType_ATA  746 non-null    uint8  \n",
      " 7   ChestPainType_NAP  746 non-null    uint8  \n",
      " 8   ChestPainType_TA   746 non-null    uint8  \n",
      " 9   RestingECG_Normal  746 non-null    uint8  \n",
      " 10  RestingECG_ST      746 non-null    uint8  \n",
      " 11  ExerciseAngina_Y   746 non-null    uint8  \n",
      " 12  ST_Slope_Flat      746 non-null    uint8  \n",
      " 13  ST_Slope_Up        746 non-null    uint8  \n",
      "dtypes: float64(1), int64(4), uint8(9)\n",
      "memory usage: 41.5 KB\n"
     ]
    }
   ],
   "source": [
    "df_X = df_2.drop(columns='Cholesterol')\n",
    "df_X.info()"
   ]
  },
  {
   "cell_type": "code",
   "execution_count": 10,
   "id": "c1b11fa9",
   "metadata": {},
   "outputs": [
    {
     "data": {
      "text/plain": [
       "(746, 14)"
      ]
     },
     "execution_count": 10,
     "metadata": {},
     "output_type": "execute_result"
    }
   ],
   "source": [
    "X_num = df_X.select_dtypes(exclude='uint8').to_numpy() #extract numeric features\n",
    "scaler = StandardScaler() #instantiate scaler (tried both MinMaxScaler and StandardScaler; no difference in results)\n",
    "X_num = scaler.fit_transform(X_num) #scale\n",
    "\n",
    "X_cat = df_X.select_dtypes(include='uint8').to_numpy() #extract dummy variables\n",
    "\n",
    "X = np.hstack((X_num, X_cat)) #combine scaled numeric, and unscaled dummy variables\n",
    "X.shape"
   ]
  },
  {
   "cell_type": "code",
   "execution_count": 11,
   "id": "b909e77d",
   "metadata": {},
   "outputs": [
    {
     "data": {
      "text/plain": [
       "(746,)"
      ]
     },
     "execution_count": 11,
     "metadata": {},
     "output_type": "execute_result"
    }
   ],
   "source": [
    "y = df_2['Cholesterol'].to_numpy()\n",
    "y.shape"
   ]
  },
  {
   "cell_type": "markdown",
   "id": "ee79b545",
   "metadata": {},
   "source": [
    "## <font color = 'blue'> Train Test Split"
   ]
  },
  {
   "cell_type": "code",
   "execution_count": 12,
   "id": "d4b8d21c",
   "metadata": {},
   "outputs": [],
   "source": [
    "X_train, X_test, y_train, y_test = train_test_split(X, y, test_size=0.2, random_state=42) #random state fixed to compare impact of different scalers"
   ]
  },
  {
   "cell_type": "markdown",
   "id": "15cc7d99",
   "metadata": {},
   "source": [
    "## <font color = 'blue'>Train"
   ]
  },
  {
   "cell_type": "code",
   "execution_count": 13,
   "id": "31e88bcf",
   "metadata": {},
   "outputs": [
    {
     "data": {
      "text/html": [
       "<style>#sk-container-id-1 {color: black;background-color: white;}#sk-container-id-1 pre{padding: 0;}#sk-container-id-1 div.sk-toggleable {background-color: white;}#sk-container-id-1 label.sk-toggleable__label {cursor: pointer;display: block;width: 100%;margin-bottom: 0;padding: 0.3em;box-sizing: border-box;text-align: center;}#sk-container-id-1 label.sk-toggleable__label-arrow:before {content: \"▸\";float: left;margin-right: 0.25em;color: #696969;}#sk-container-id-1 label.sk-toggleable__label-arrow:hover:before {color: black;}#sk-container-id-1 div.sk-estimator:hover label.sk-toggleable__label-arrow:before {color: black;}#sk-container-id-1 div.sk-toggleable__content {max-height: 0;max-width: 0;overflow: hidden;text-align: left;background-color: #f0f8ff;}#sk-container-id-1 div.sk-toggleable__content pre {margin: 0.2em;color: black;border-radius: 0.25em;background-color: #f0f8ff;}#sk-container-id-1 input.sk-toggleable__control:checked~div.sk-toggleable__content {max-height: 200px;max-width: 100%;overflow: auto;}#sk-container-id-1 input.sk-toggleable__control:checked~label.sk-toggleable__label-arrow:before {content: \"▾\";}#sk-container-id-1 div.sk-estimator input.sk-toggleable__control:checked~label.sk-toggleable__label {background-color: #d4ebff;}#sk-container-id-1 div.sk-label input.sk-toggleable__control:checked~label.sk-toggleable__label {background-color: #d4ebff;}#sk-container-id-1 input.sk-hidden--visually {border: 0;clip: rect(1px 1px 1px 1px);clip: rect(1px, 1px, 1px, 1px);height: 1px;margin: -1px;overflow: hidden;padding: 0;position: absolute;width: 1px;}#sk-container-id-1 div.sk-estimator {font-family: monospace;background-color: #f0f8ff;border: 1px dotted black;border-radius: 0.25em;box-sizing: border-box;margin-bottom: 0.5em;}#sk-container-id-1 div.sk-estimator:hover {background-color: #d4ebff;}#sk-container-id-1 div.sk-parallel-item::after {content: \"\";width: 100%;border-bottom: 1px solid gray;flex-grow: 1;}#sk-container-id-1 div.sk-label:hover label.sk-toggleable__label {background-color: #d4ebff;}#sk-container-id-1 div.sk-serial::before {content: \"\";position: absolute;border-left: 1px solid gray;box-sizing: border-box;top: 0;bottom: 0;left: 50%;z-index: 0;}#sk-container-id-1 div.sk-serial {display: flex;flex-direction: column;align-items: center;background-color: white;padding-right: 0.2em;padding-left: 0.2em;position: relative;}#sk-container-id-1 div.sk-item {position: relative;z-index: 1;}#sk-container-id-1 div.sk-parallel {display: flex;align-items: stretch;justify-content: center;background-color: white;position: relative;}#sk-container-id-1 div.sk-item::before, #sk-container-id-1 div.sk-parallel-item::before {content: \"\";position: absolute;border-left: 1px solid gray;box-sizing: border-box;top: 0;bottom: 0;left: 50%;z-index: -1;}#sk-container-id-1 div.sk-parallel-item {display: flex;flex-direction: column;z-index: 1;position: relative;background-color: white;}#sk-container-id-1 div.sk-parallel-item:first-child::after {align-self: flex-end;width: 50%;}#sk-container-id-1 div.sk-parallel-item:last-child::after {align-self: flex-start;width: 50%;}#sk-container-id-1 div.sk-parallel-item:only-child::after {width: 0;}#sk-container-id-1 div.sk-dashed-wrapped {border: 1px dashed gray;margin: 0 0.4em 0.5em 0.4em;box-sizing: border-box;padding-bottom: 0.4em;background-color: white;}#sk-container-id-1 div.sk-label label {font-family: monospace;font-weight: bold;display: inline-block;line-height: 1.2em;}#sk-container-id-1 div.sk-label-container {text-align: center;}#sk-container-id-1 div.sk-container {/* jupyter's `normalize.less` sets `[hidden] { display: none; }` but bootstrap.min.css set `[hidden] { display: none !important; }` so we also need the `!important` here to be able to override the default hidden behavior on the sphinx rendered scikit-learn.org. See: https://github.com/scikit-learn/scikit-learn/issues/21755 */display: inline-block !important;position: relative;}#sk-container-id-1 div.sk-text-repr-fallback {display: none;}</style><div id=\"sk-container-id-1\" class=\"sk-top-container\"><div class=\"sk-text-repr-fallback\"><pre>LinearRegression()</pre><b>In a Jupyter environment, please rerun this cell to show the HTML representation or trust the notebook. <br />On GitHub, the HTML representation is unable to render, please try loading this page with nbviewer.org.</b></div><div class=\"sk-container\" hidden><div class=\"sk-item\"><div class=\"sk-estimator sk-toggleable\"><input class=\"sk-toggleable__control sk-hidden--visually\" id=\"sk-estimator-id-1\" type=\"checkbox\" checked><label for=\"sk-estimator-id-1\" class=\"sk-toggleable__label sk-toggleable__label-arrow\">LinearRegression</label><div class=\"sk-toggleable__content\"><pre>LinearRegression()</pre></div></div></div></div></div>"
      ],
      "text/plain": [
       "LinearRegression()"
      ]
     },
     "execution_count": 13,
     "metadata": {},
     "output_type": "execute_result"
    }
   ],
   "source": [
    "lm_1=LinearRegression() #instantiate\n",
    "lm_1.fit(X_train,y_train) #fit"
   ]
  },
  {
   "cell_type": "code",
   "execution_count": 14,
   "id": "3e578003",
   "metadata": {},
   "outputs": [
    {
     "name": "stdout",
     "output_type": "stream",
     "text": [
      "Root Mean Squared Error on Training Set: 56.5997810836798\n",
      "Range of y_train: 85 - 603\n"
     ]
    }
   ],
   "source": [
    "# check training accuracy\n",
    "pred_train = lm_1.predict(X_train)\n",
    "rmse_train = mean_squared_error(y_true = y_train, y_pred = pred_train, squared=False)\n",
    "print(f\"Root Mean Squared Error on Training Set: {rmse_train}\")\n",
    "print(f\"Range of y_train: {min(y_train)} - {max(y_train)}\")"
   ]
  },
  {
   "cell_type": "markdown",
   "id": "cea7a1b9",
   "metadata": {},
   "source": [
    "In view of the range of cholesterol values, the RMSE is quite large."
   ]
  },
  {
   "cell_type": "code",
   "execution_count": 15,
   "id": "5f1ff103",
   "metadata": {},
   "outputs": [
    {
     "data": {
      "text/plain": [
       "Text(0, 0.5, 'prediction')"
      ]
     },
     "execution_count": 15,
     "metadata": {},
     "output_type": "execute_result"
    },
    {
     "data": {
      "image/png": "[encoded data removed]",
      "text/plain": [
       "<Figure size 500x500 with 1 Axes>"
      ]
     },
     "metadata": {},
     "output_type": "display_data"
    }
   ],
   "source": [
    "fig, ax = plt.subplots(figsize=(5,5))\n",
    "sns.regplot(x=y_train, y=pred_train, ci=False, line_kws={'color':'black', 'linestyle':'dashed'})\n",
    "ax.set_xlabel('target')\n",
    "ax.set_ylabel('prediction')"
   ]
  },
  {
   "cell_type": "code",
   "execution_count": 16,
   "id": "e7df7feb",
   "metadata": {
    "scrolled": true
   },
   "outputs": [
    {
     "data": {
      "text/plain": [
       "0.06961852466215213"
      ]
     },
     "execution_count": 16,
     "metadata": {},
     "output_type": "execute_result"
    }
   ],
   "source": [
    "R2 = r2_score(y_train, pred_train)\n",
    "R2"
   ]
  },
  {
   "cell_type": "markdown",
   "id": "6a9941ac",
   "metadata": {},
   "source": [
    "R2 value is very close to zero, indicating that the linear model is only marginally better than using the mean as our estimate. This poor fit is corroborated by the scatter plot."
   ]
  },
  {
   "cell_type": "markdown",
   "id": "0af71e84",
   "metadata": {},
   "source": [
    "## <font color = 'blue'> Test"
   ]
  },
  {
   "cell_type": "code",
   "execution_count": 17,
   "id": "155fa2c1",
   "metadata": {},
   "outputs": [
    {
     "name": "stdout",
     "output_type": "stream",
     "text": [
      "Root Mean Squared Error on Test Set: 61.83100159015669\n",
      "Range of y_test: 100 - 529\n"
     ]
    }
   ],
   "source": [
    "# check test accuracy\n",
    "pred_test = lm_1.predict(X_test)\n",
    "rmse_train = mean_squared_error(y_true = y_test, y_pred = pred_test, squared=False)\n",
    "print(f\"Root Mean Squared Error on Test Set: {rmse_train}\")\n",
    "print(f\"Range of y_test: {min(y_test)} - {max(y_test)}\")"
   ]
  },
  {
   "cell_type": "code",
   "execution_count": 18,
   "id": "e1b933f0",
   "metadata": {},
   "outputs": [
    {
     "data": {
      "text/plain": [
       "Text(0, 0.5, 'prediction')"
      ]
     },
     "execution_count": 18,
     "metadata": {},
     "output_type": "execute_result"
    },
    {
     "data": {
      "image/png": "[encoded data removed]",
      "text/plain": [
       "<Figure size 500x500 with 1 Axes>"
      ]
     },
     "metadata": {},
     "output_type": "display_data"
    }
   ],
   "source": [
    "fig, ax = plt.subplots(figsize=(5,5))\n",
    "sns.regplot(x=y_test, y=pred_test, ci=False, line_kws={'color':'black', 'linestyle':'dashed'})\n",
    "ax.set_xlabel('target')\n",
    "ax.set_ylabel('prediction')"
   ]
  },
  {
   "cell_type": "code",
   "execution_count": 19,
   "id": "a687181a",
   "metadata": {},
   "outputs": [
    {
     "data": {
      "text/plain": [
       "-0.03480677703157342"
      ]
     },
     "execution_count": 19,
     "metadata": {},
     "output_type": "execute_result"
    }
   ],
   "source": [
    "R2 = r2_score(y_test, pred_test)\n",
    "R2"
   ]
  },
  {
   "cell_type": "markdown",
   "id": "eebf579c",
   "metadata": {},
   "source": [
    "As expected, the performance on the test set is even poorer than the training set. In fact, the negative R2 value indicates that using the mean as our prediction would be more accurate. We could go into feature selection by performing hypothesis tests on the coefficients, but given how poor the performance is at this stage, a linear model may not be the best approach. "
   ]
  },
  {
   "cell_type": "code",
   "execution_count": null,
   "id": "14b97046",
   "metadata": {},
   "outputs": [],
   "source": []
  }
 ],
 "metadata": {
  "kernelspec": {
   "display_name": "Python 3 (ipykernel)",
   "language": "python",
   "name": "python3"
  },
  "language_info": {
   "codemirror_mode": {
    "name": "ipython",
    "version": 3
   },
   "file_extension": ".py",
   "mimetype": "text/x-python",
   "name": "python",
   "nbconvert_exporter": "python",
   "pygments_lexer": "ipython3",
   "version": "3.8.15"
  }
 },
 "nbformat": 4,
 "nbformat_minor": 5
}
